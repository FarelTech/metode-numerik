{
  "nbformat": 4,
  "nbformat_minor": 0,
  "metadata": {
    "colab": {
      "provenance": [],
      "authorship_tag": "ABX9TyN3RWMVcKb0hDWj0WA0xK5K",
      "include_colab_link": true
    },
    "kernelspec": {
      "name": "python3",
      "display_name": "Python 3"
    },
    "language_info": {
      "name": "python"
    }
  },
  "cells": [
    {
      "cell_type": "markdown",
      "metadata": {
        "id": "view-in-github",
        "colab_type": "text"
      },
      "source": [
        "<a href=\"https://colab.research.google.com/github/FarelTech/metode-numerik/blob/main/Implementasi%20Persamaan%20Sistem%20Linear.ipynb\" target=\"_parent\"><img src=\"https://colab.research.google.com/assets/colab-badge.svg\" alt=\"Open In Colab\"/></a>"
      ]
    },
    {
      "cell_type": "code",
      "execution_count": null,
      "metadata": {
        "colab": {
          "base_uri": "https://localhost:8080/"
        },
        "id": "5uhHI25Qw2t1",
        "outputId": "d850ff3f-8435-4b0c-f5d3-00d183af84a7"
      },
      "outputs": [
        {
          "output_type": "stream",
          "name": "stdout",
          "text": [
            "Matriks asli:\n",
            "[[1 2 3]\n",
            " [0 1 4]\n",
            " [5 6 0]]\n",
            "Matriks balikan:\n",
            "[[-24.  18.   5.]\n",
            " [ 20. -15.  -4.]\n",
            " [ -5.   4.   1.]]\n",
            "Hasil perkalian matriks asli dengan balikan (harus matriks identitas):\n",
            "[[ 1.00000000e+00 -2.66453526e-15  0.00000000e+00]\n",
            " [ 0.00000000e+00  1.00000000e+00  0.00000000e+00]\n",
            " [ 0.00000000e+00 -7.10542736e-15  1.00000000e+00]]\n"
          ]
        }
      ],
      "source": [
        "import numpy as np\n",
        "\n",
        "# Mendefinisikan matriks\n",
        "A = np.array([[1, 2, 3],\n",
        "              [0, 1, 4],\n",
        "              [5, 6, 0]])\n",
        "\n",
        "# Menghitung matriks balikan\n",
        "try:\n",
        "    A_inv = np.linalg.inv(A)\n",
        "    print(\"Matriks asli:\")\n",
        "    print(A)\n",
        "    print(\"Matriks balikan:\")\n",
        "    print(A_inv)\n",
        "except np.linalg.LinAlgError:\n",
        "    print(\"Matriks tidak dapat dibalik (determinannya nol).\")\n",
        "\n",
        "# Verifikasi dengan mengalikan matriks asli dengan balikan\n",
        "# Harus menghasilkan matriks identitas\n",
        "identity_check = np.dot(A, A_inv)\n",
        "print(\"Hasil perkalian matriks asli dengan balikan (harus matriks identitas):\")\n",
        "print(identity_check)"
      ]
    },
    {
      "cell_type": "code",
      "source": [
        "import numpy as np\n",
        "\n",
        "def lu_decomposition(A):\n",
        "    n = A.shape[0]\n",
        "    L = np.zeros((n, n))\n",
        "    U = np.zeros((n, n))\n",
        "\n",
        "    for i in range(n):\n",
        "        # U bagian atas\n",
        "        for k in range(i, n):\n",
        "            sum_u = sum(L[i][j] * U[j][k] for j in range(i))\n",
        "            U[i][k] = A[i][k] - sum_u\n",
        "\n",
        "        # L bagian bawah\n",
        "        for k in range(i, n):\n",
        "            if i == k:\n",
        "                L[i][i] = 1  # Diagonal L adalah 1\n",
        "            else:\n",
        "                sum_l = sum(L[k][j] * U[j][i] for j in range(i))\n",
        "                L[k][i] = (A[k][i] - sum_l) / U[i][i]\n",
        "\n",
        "    return L, U\n",
        "\n",
        "# Contoh penggunaan\n",
        "A = np.array([[2, -1, -2],\n",
        "              [-4, 6, 3],\n",
        "              [-4, -2, 8]], dtype=float)\n",
        "\n",
        "L, U = lu_decomposition(A)\n",
        "\n",
        "print(\"Matriks A:\")\n",
        "print(A)\n",
        "print(\"Matriks L:\")\n",
        "print(L)\n",
        "print(\"Matriks U:\")\n",
        "print(U)\n",
        "\n",
        "# Verifikasi bahwa A = L * U\n",
        "A_reconstructed = np.dot(L, U)\n",
        "print(\"Rekonstruksi A dari L dan U (harus sama dengan matriks A asli):\")\n",
        "print(A_reconstructed)"
      ],
      "metadata": {
        "colab": {
          "base_uri": "https://localhost:8080/"
        },
        "id": "l-ik3GktxJjB",
        "outputId": "2063e599-9fb6-4805-d7de-de8f03b595ba"
      },
      "execution_count": null,
      "outputs": [
        {
          "output_type": "stream",
          "name": "stdout",
          "text": [
            "Matriks A:\n",
            "[[ 2. -1. -2.]\n",
            " [-4.  6.  3.]\n",
            " [-4. -2.  8.]]\n",
            "Matriks L:\n",
            "[[ 1.  0.  0.]\n",
            " [-2.  1.  0.]\n",
            " [-2. -1.  1.]]\n",
            "Matriks U:\n",
            "[[ 2. -1. -2.]\n",
            " [ 0.  4. -1.]\n",
            " [ 0.  0.  3.]]\n",
            "Rekonstruksi A dari L dan U (harus sama dengan matriks A asli):\n",
            "[[ 2. -1. -2.]\n",
            " [-4.  6.  3.]\n",
            " [-4. -2.  8.]]\n"
          ]
        }
      ]
    },
    {
      "cell_type": "code",
      "source": [
        "def crout_decomposition(A):\n",
        "    n = len(A)\n",
        "    L = [[0.0] * n for _ in range(n)]\n",
        "    U = [[0.0] * n for _ in range(n)]\n",
        "\n",
        "    for j in range(n):\n",
        "        for i in range(j, n):\n",
        "            sum_l = sum(L[i][k] * U[k][j] for k in range(j))\n",
        "            L[i][j] = A[i][j] - sum_l\n",
        "\n",
        "        U[j][j] = 1  # Diagonal U harus 1\n",
        "        for i in range(j + 1, n):\n",
        "            sum_u = sum(L[j][k] * U[k][i] for k in range(j))\n",
        "            U[j][i] = (A[j][i] - sum_u) / L[j][j]\n",
        "\n",
        "    return L, U\n",
        "\n",
        "# Contoh penggunaan\n",
        "A = [[2, -1, -2],\n",
        "     [-4, 6, 3],\n",
        "     [-4, -2, 8]]\n",
        "\n",
        "L, U = crout_decomposition(A)\n",
        "\n",
        "print(\"Matriks A:\")\n",
        "for row in A:\n",
        "    print(row)\n",
        "print(\"Matriks L:\")\n",
        "for row in L:\n",
        "    print(row)\n",
        "print(\"Matriks U:\")\n",
        "for row in U:\n",
        "    print(row)\n",
        "\n",
        "# Verifikasi bahwa A = L * U\n",
        "def matrix_multiply(X, Y):\n",
        "    result = [[0] * len(Y[0]) for _ in range(len(X))]\n",
        "    for i in range(len(X)):\n",
        "        for j in range(len(Y[0])):\n",
        "            for k in range(len(Y)):\n",
        "                result[i][j] += X[i][k] * Y[k][j]\n",
        "    return result\n",
        "\n",
        "A_reconstructed = matrix_multiply(L, U)\n",
        "print(\"Rekonstruksi A dari L dan U (harus sama dengan matriks A asli):\")\n",
        "for row in A_reconstructed:\n",
        "    print(row)"
      ],
      "metadata": {
        "colab": {
          "base_uri": "https://localhost:8080/"
        },
        "id": "r-eAD5J1xcUU",
        "outputId": "ad5ffe7c-cab2-4eac-cd97-197e7e05c33e"
      },
      "execution_count": null,
      "outputs": [
        {
          "output_type": "stream",
          "name": "stdout",
          "text": [
            "Matriks A:\n",
            "[2, -1, -2]\n",
            "[-4, 6, 3]\n",
            "[-4, -2, 8]\n",
            "Matriks L:\n",
            "[2, 0.0, 0.0]\n",
            "[-4, 4.0, 0.0]\n",
            "[-4, -4.0, 3.0]\n",
            "Matriks U:\n",
            "[1, -0.5, -1.0]\n",
            "[0.0, 1, -0.25]\n",
            "[0.0, 0.0, 1]\n",
            "Rekonstruksi A dari L dan U (harus sama dengan matriks A asli):\n",
            "[2.0, -1.0, -2.0]\n",
            "[-4.0, 6.0, 3.0]\n",
            "[-4.0, -2.0, 8.0]\n"
          ]
        }
      ]
    }
  ]
}